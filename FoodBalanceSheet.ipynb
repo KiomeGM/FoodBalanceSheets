{
 "cells": [
  {
   "cell_type": "markdown",
   "metadata": {},
   "source": [
    "# FOOD BALANCE SHEET FOR EAST AFRICA\n",
    "\n",
    "Analysis by Rogers Mugambi<br>\n",
    "(c) 2022"
   ]
  },
  {
   "cell_type": "markdown",
   "metadata": {},
   "source": [
    "<img src=https://sites.google.com/site/apecharvestlost/_/rsrc/1467135557618/food-balance-sheet/foodbalance.jpg alt=\"image info\" />"
   ]
  },
  {
   "cell_type": "markdown",
   "metadata": {},
   "source": [
    "<h2> What is a Food Balance Sheet? </h2>\n",
    "\n",
    "A Food Balance Sheet (FBS) can be defined as an aggregated and analytical data set that “presents a comprehensive picture of the pattern of a country’s food supply during a specified reference period.\n",
    "” This is achieved within an accounting framework, wherein all potential sources of both supply and utilization of a given food product are specified. \n",
    "\n",
    "The quantities allocated to all sources of total supply –\n",
    ">> * the amount of the food item produced, \n",
    ">> * the amount of the food item that is imported, and \n",
    ">> * the amount of the item that is either added to or taken from stocks \n",
    "\n",
    "– must be equal to the quantities allocated to all sources of utilization, which can include exports, losses along the supply chain, livestock feed, seed use, tourist food, food processing, industrial uses, other uses, and food available for consumption by a country’s residents.\n",
    "\n",
    "This balance is compiled for every food item (estimated on a primary\n",
    "commodity equivalent basis) consumed within a country, and all of the primary commodity equivalent balances are then combined into a single overall FBS. An estimate of per capita supply for each food item – both in terms of quantity and, through the application of food conversion factors, in terms of caloric value, protein, and fat content –\n",
    "can then be derived by dividing by the country’s population. These per capita estimates of caloric value for individual food products are then summed to obtain the total daily per capita Dietary Energy Supply (DES) of a country.\n",
    "\n",
    "<h2> Importance of FBS </h2>\n",
    "\n",
    "Viewing the domestic food supply and demand situation within this framework allows countries to:\n",
    "* measure and analyse overall food supply:  an indicator of whether sufficient food is available nationally, particularly for developing countries, where undernourishment is more likely to be a problem.\n",
    "* assess food supply through calculation of indicators: these indicators can be used to analyse a wide range of concepts, including hunger, malnutrition, import dependence and food selfsufficiency.\n",
    "* benchmark and analyse markets: analysing comparative diets can be a useful exercise in the area of nutrition policy, and comparative food availability is the potential for market research.\n",
    "* compare food availability across time: will enable users to track changes in the food supply over time, including estimated total caloric availability, growth of consumption in new products, and general changes in dietary composition.\n",
    "* improve national statistical integration: FBS provide a framework for reconciling data, as total supply must equal total utilization.\n",
    "* derive improved national account estimates due to improved measurement or estimation of agricultural production and utilization. National accounts typically include estimations of household and collective consumption, trade in goods and services, and output and value-added by industry.\n",
    "* use the FBS in economic models."
   ]
  },
  {
   "cell_type": "markdown",
   "metadata": {},
   "source": [
    "## DataSet\n",
    "\n",
    "The dataset is provided by the Food and Agriculture Organization of the United Nations and is made available in .csv format on the github link below: <br>\n",
    "https://github.com/HamoyeHQ/HDSC-Introduction-to-Python-for-machine-learningDataset\n",
    "\n",
    "A direct link to the dataset is shown below: <br>\n",
    "[FoodBalanceSheets_E_Africa_NOFLAG.csv](https://github.com/HamoyeHQ/HDSC-Introduction-to-Python-for-machine-learning/files/7768140/FoodBalanceSheets_E_Africa_NOFLAG.csv)\n",
    "\n",
    "### Features\n",
    "\n",
    "The features in the dataset are: Area Code, Area, Item Code, Item, Element Code, Element, Unit, Y2014, Y2015, Y2016, Y2017, Y2018\n",
    "\n",
    "### Variable Definitions\n",
    "\n",
    "1. Population: de facto population (citizens as well as all residents) in a country, area or region as of 1 July of the year indicated. The persons who are not counted as part of the “population” should be conceptualized as “visitors”, so that their food availability can be appropriately captured under tourist food.\n",
    "2. Nutrients: substances that the body needs to function properly. The following nutrient-related variables are commonly derived from food estimates using nutrient conversion tables5\n",
    ">> •\t Food: total calorie equivalent\n",
    ">> •\t Calories per capita per day\n",
    ">> •\t Food: total protein equivalent\n",
    ">> •\t Proteins per capita per day\n",
    ">> •\t Food: total fat equivalent\n",
    ">> •\t Fats per capita per day\n",
    "\n",
    "### Constraints on the balancing process\n",
    "\n",
    "1. Row constraint: supply for each commodity must be equal to the utilization for that commodity. A country’s exports of a given commodity cannot exceed their supply of that commodity.\n",
    "2. Column constraint: single-year and multi-year constraints\n"
   ]
  },
  {
   "cell_type": "code",
   "execution_count": 1,
   "metadata": {},
   "outputs": [],
   "source": [
    "import pandas as pd\n",
    "import numpy as np"
   ]
  },
  {
   "cell_type": "markdown",
   "metadata": {},
   "source": [
    "## Accessing Dataset"
   ]
  },
  {
   "cell_type": "code",
   "execution_count": 100,
   "metadata": {},
   "outputs": [],
   "source": [
    "# using pandas to read a csv file and save the data in a pandas dataframe\n",
    "\n",
    "df = pd.read_csv(\"FoodBalanceSheets_E_Africa_NOFLAG.csv\", encoding = \"Latin-1\")"
   ]
  },
  {
   "cell_type": "code",
   "execution_count": 11,
   "metadata": {},
   "outputs": [
    {
     "data": {
      "text/html": [
       "<div>\n",
       "<style scoped>\n",
       "    .dataframe tbody tr th:only-of-type {\n",
       "        vertical-align: middle;\n",
       "    }\n",
       "\n",
       "    .dataframe tbody tr th {\n",
       "        vertical-align: top;\n",
       "    }\n",
       "\n",
       "    .dataframe thead th {\n",
       "        text-align: right;\n",
       "    }\n",
       "</style>\n",
       "<table border=\"1\" class=\"dataframe\">\n",
       "  <thead>\n",
       "    <tr style=\"text-align: right;\">\n",
       "      <th></th>\n",
       "      <th>Area Code</th>\n",
       "      <th>Area</th>\n",
       "      <th>Item Code</th>\n",
       "      <th>Item</th>\n",
       "      <th>Element Code</th>\n",
       "      <th>Element</th>\n",
       "      <th>Unit</th>\n",
       "      <th>Y2014</th>\n",
       "      <th>Y2015</th>\n",
       "      <th>Y2016</th>\n",
       "      <th>Y2017</th>\n",
       "      <th>Y2018</th>\n",
       "    </tr>\n",
       "  </thead>\n",
       "  <tbody>\n",
       "    <tr>\n",
       "      <th>0</th>\n",
       "      <td>4</td>\n",
       "      <td>Algeria</td>\n",
       "      <td>2501</td>\n",
       "      <td>Population</td>\n",
       "      <td>511</td>\n",
       "      <td>Total Population - Both sexes</td>\n",
       "      <td>1000 persons</td>\n",
       "      <td>38924.0</td>\n",
       "      <td>39728.0</td>\n",
       "      <td>40551.0</td>\n",
       "      <td>41389.0</td>\n",
       "      <td>42228.0</td>\n",
       "    </tr>\n",
       "    <tr>\n",
       "      <th>1</th>\n",
       "      <td>4</td>\n",
       "      <td>Algeria</td>\n",
       "      <td>2501</td>\n",
       "      <td>Population</td>\n",
       "      <td>5301</td>\n",
       "      <td>Domestic supply quantity</td>\n",
       "      <td>1000 tonnes</td>\n",
       "      <td>0.0</td>\n",
       "      <td>0.0</td>\n",
       "      <td>0.0</td>\n",
       "      <td>0.0</td>\n",
       "      <td>0.0</td>\n",
       "    </tr>\n",
       "  </tbody>\n",
       "</table>\n",
       "</div>"
      ],
      "text/plain": [
       "   Area Code     Area  Item Code        Item  Element Code  \\\n",
       "0          4  Algeria       2501  Population           511   \n",
       "1          4  Algeria       2501  Population          5301   \n",
       "\n",
       "                         Element          Unit    Y2014    Y2015    Y2016  \\\n",
       "0  Total Population - Both sexes  1000 persons  38924.0  39728.0  40551.0   \n",
       "1       Domestic supply quantity   1000 tonnes      0.0      0.0      0.0   \n",
       "\n",
       "     Y2017    Y2018  \n",
       "0  41389.0  42228.0  \n",
       "1      0.0      0.0  "
      ]
     },
     "execution_count": 11,
     "metadata": {},
     "output_type": "execute_result"
    }
   ],
   "source": [
    "df.head(2)"
   ]
  },
  {
   "cell_type": "code",
   "execution_count": 5,
   "metadata": {},
   "outputs": [
    {
     "data": {
      "text/plain": [
       "(60943, 12)"
      ]
     },
     "execution_count": 5,
     "metadata": {},
     "output_type": "execute_result"
    }
   ],
   "source": [
    "# checking the number of rows and columns in the dataframe\n",
    "\n",
    "df.shape"
   ]
  },
  {
   "cell_type": "markdown",
   "metadata": {},
   "source": [
    "The dataframe has 12 columns and 60943 rows."
   ]
  },
  {
   "cell_type": "code",
   "execution_count": 9,
   "metadata": {},
   "outputs": [
    {
     "data": {
      "text/plain": [
       "Area Code         int64\n",
       "Area             object\n",
       "Item Code         int64\n",
       "Item             object\n",
       "Element Code      int64\n",
       "Element          object\n",
       "Unit             object\n",
       "Y2014           float64\n",
       "Y2015           float64\n",
       "Y2016           float64\n",
       "Y2017           float64\n",
       "Y2018           float64\n",
       "dtype: object"
      ]
     },
     "execution_count": 9,
     "metadata": {},
     "output_type": "execute_result"
    }
   ],
   "source": [
    "# cheking the datatype of the various columns\n",
    "\n",
    "df.dtypes"
   ]
  },
  {
   "cell_type": "markdown",
   "metadata": {},
   "source": [
    "## Data Wrangling"
   ]
  },
  {
   "cell_type": "markdown",
   "metadata": {},
   "source": [
    "Now, how many unique entries exist per column? The columns to be investigated are the Area, Item, and Element"
   ]
  },
  {
   "cell_type": "code",
   "execution_count": 17,
   "metadata": {},
   "outputs": [],
   "source": [
    "# checking unique entries and saving into lists\n",
    "\n",
    "Area = list(df.Area.unique())\n",
    "Items = list(df.Item.unique())\n",
    "Elements = list(df.Element.unique())"
   ]
  },
  {
   "cell_type": "markdown",
   "metadata": {},
   "source": [
    "The column \"Area\" has the following unique entries, which are the names for 49 African countries: `'Algeria', 'Angola', 'Benin', 'Botswana', 'Burkina Faso', 'Cabo Verde', 'Cameroon', 'Central African Republic', 'Chad', 'Comoros', 'Congo', \"Côte d'Ivoire\", 'Djibouti', 'Egypt', 'Eswatini', 'Ethiopia', 'Ethiopia PDR', 'Gabon', 'Gambia', 'Ghana', 'Guinea', 'Guinea-Bissau', 'Kenya', 'Lesotho', 'Liberia', 'Madagascar', 'Malawi', 'Mali', 'Mauritania', 'Mauritius', 'Morocco', 'Mozambique', 'Namibia', 'Niger', 'Nigeria', 'Rwanda', 'Sao Tome and Principe', 'Senegal', 'Seychelles', 'Sierra Leone', 'South Africa', 'Sudan', 'Sudan (former)', 'Togo', 'Tunisia', 'Uganda', 'United Republic of Tanzania', 'Zambia', 'Zimbabwe'`\n",
    "\n",
    "The column \"Item\" has the following 119 unique entries: `'Population', 'Grand Total', 'Vegetal Products', 'Animal Products', 'Cereals - Excluding Beer', 'Wheat and products', 'Rice and products', 'Barley and products', 'Maize and products', 'Rye and products', 'Oats', 'Millet and products', 'Sorghum and products', 'Cereals, Other', 'Starchy Roots', 'Cassava and products', 'Potatoes and products', 'Sweet potatoes', 'Yams', 'Roots, Other', 'Sugar Crops', 'Sugar cane', 'Sugar beet', 'Sugar & Sweeteners', 'Sugar (Raw Equivalent)', 'Sweeteners, Other', 'Honey', 'Pulses', 'Beans', 'Peas', 'Pulses, Other and products', 'Treenuts', 'Nuts and products', 'Oilcrops', 'Soyabeans', 'Groundnuts (Shelled Eq)', 'Sunflower seed', 'Rape and Mustardseed', 'Cottonseed', 'Coconuts - Incl Copra', 'Sesame seed', 'Olives (including preserved)', 'Oilcrops, Other', 'Vegetable Oils', 'Soyabean Oil', 'Groundnut Oil', 'Sunflowerseed Oil', 'Rape and Mustard Oil', 'Cottonseed Oil', 'Palmkernel Oil', 'Palm Oil', 'Coconut Oil', 'Sesameseed Oil', 'Olive Oil', 'Maize Germ Oil', 'Oilcrops Oil, Other', 'Vegetables', 'Tomatoes and products', 'Onions', 'Vegetables, Other', 'Fruits - Excluding Wine', 'Oranges, Mandarines', 'Lemons, Limes and products', 'Grapefruit and products', 'Citrus, Other', 'Bananas', 'Plantains', 'Apples and products', 'Pineapples and products', 'Dates', 'Grapes and products (excl wine)', 'Fruits, Other', 'Stimulants', 'Coffee and products', 'Cocoa Beans and products', 'Tea (including mate)', 'Spices', 'Pepper', 'Pimento', 'Cloves', 'Spices, Other', 'Alcoholic Beverages', 'Wine', 'Beer', 'Beverages, Fermented', 'Beverages, Alcoholic', 'Alcohol, Non-Food', 'Meat', 'Bovine Meat', 'Mutton & Goat Meat', 'Pigmeat', 'Poultry Meat', 'Meat, Other', 'Offals', 'Offals, Edible', 'Animal fats', 'Butter, Ghee', 'Cream', 'Fats, Animals, Raw', 'Fish, Body Oil', 'Fish, Liver Oil', 'Eggs', 'Milk - Excluding Butter', 'Fish, Seafood', 'Freshwater Fish', 'Demersal Fish', 'Pelagic Fish', 'Marine Fish, Other', 'Crustaceans', 'Cephalopods', 'Molluscs, Other', 'Aquatic Products, Other', 'Aquatic Animals, Others', 'Aquatic Plants', 'Miscellaneous', 'Infant food', 'Sugar non-centrifugal', 'Palm kernels', 'Ricebran Oil'`\n",
    "\n",
    "The column \"Element\" has the following 18 unique items: `'Total Population - Both sexes', 'Domestic supply quantity', 'Food supply (kcal/capita/day)', 'Protein supply quantity (g/capita/day)', 'Fat supply quantity (g/capita/day)', 'Production', 'Import Quantity', 'Stock Variation', 'Export Quantity', 'Feed', 'Seed', 'Losses', 'Processing', 'Other uses (non-food)', 'Residuals', 'Food', 'Food supply quantity (kg/capita/yr)', 'Tourist consumption'`"
   ]
  },
  {
   "cell_type": "code",
   "execution_count": 33,
   "metadata": {},
   "outputs": [
    {
     "data": {
      "text/plain": [
       "Area Code          0\n",
       "Area               0\n",
       "Item Code          0\n",
       "Item               0\n",
       "Element Code       0\n",
       "Element            0\n",
       "Unit               0\n",
       "Y2014           1589\n",
       "Y2015           1548\n",
       "Y2016           1535\n",
       "Y2017           1506\n",
       "Y2018           1436\n",
       "dtype: int64"
      ]
     },
     "execution_count": 33,
     "metadata": {},
     "output_type": "execute_result"
    }
   ],
   "source": [
    "# checking number of null values per column:\n",
    "df.isnull().sum()"
   ]
  },
  {
   "cell_type": "markdown",
   "metadata": {},
   "source": [
    "# QUESTIONS"
   ]
  },
  {
   "cell_type": "markdown",
   "metadata": {},
   "source": [
    "## Q1: total Protein supply quantity in Madagascar in 2015"
   ]
  },
  {
   "cell_type": "code",
   "execution_count": 39,
   "metadata": {},
   "outputs": [],
   "source": [
    "df_Mad = df[df['Area'] == 'Madagascar']"
   ]
  },
  {
   "cell_type": "code",
   "execution_count": 42,
   "metadata": {},
   "outputs": [],
   "source": [
    "df_Mad_2015 = df_Mad.filter(items = ['Element', 'Y2015'])"
   ]
  },
  {
   "cell_type": "code",
   "execution_count": 44,
   "metadata": {},
   "outputs": [
    {
     "data": {
      "text/plain": [
       "Element    Protein supply quantity (g/capita/day)Protein ...\n",
       "Y2015                                                 173.05\n",
       "dtype: object"
      ]
     },
     "execution_count": 44,
     "metadata": {},
     "output_type": "execute_result"
    }
   ],
   "source": [
    "df_Mad_2015[df_Mad_2015['Element'] == 'Protein supply quantity (g/capita/day)'].sum()"
   ]
  },
  {
   "cell_type": "markdown",
   "metadata": {},
   "source": [
    "## Q3: total sum of Wine produced in 2015 and 2018 respectively"
   ]
  },
  {
   "cell_type": "code",
   "execution_count": 50,
   "metadata": {},
   "outputs": [
    {
     "data": {
      "text/html": [
       "<div>\n",
       "<style scoped>\n",
       "    .dataframe tbody tr th:only-of-type {\n",
       "        vertical-align: middle;\n",
       "    }\n",
       "\n",
       "    .dataframe tbody tr th {\n",
       "        vertical-align: top;\n",
       "    }\n",
       "\n",
       "    .dataframe thead th {\n",
       "        text-align: right;\n",
       "    }\n",
       "</style>\n",
       "<table border=\"1\" class=\"dataframe\">\n",
       "  <thead>\n",
       "    <tr style=\"text-align: right;\">\n",
       "      <th></th>\n",
       "      <th>Item</th>\n",
       "      <th>Y2014</th>\n",
       "      <th>Y2015</th>\n",
       "      <th>Y2016</th>\n",
       "      <th>Y2017</th>\n",
       "      <th>Y2018</th>\n",
       "    </tr>\n",
       "  </thead>\n",
       "  <tbody>\n",
       "    <tr>\n",
       "      <th>117</th>\n",
       "      <td>Wine</td>\n",
       "      <td>4497.36</td>\n",
       "      <td>4251.81</td>\n",
       "      <td>3872.09</td>\n",
       "      <td>4178.02</td>\n",
       "      <td>4039.32</td>\n",
       "    </tr>\n",
       "  </tbody>\n",
       "</table>\n",
       "</div>"
      ],
      "text/plain": [
       "     Item    Y2014    Y2015    Y2016    Y2017    Y2018\n",
       "117  Wine  4497.36  4251.81  3872.09  4178.02  4039.32"
      ]
     },
     "execution_count": 50,
     "metadata": {},
     "output_type": "execute_result"
    }
   ],
   "source": [
    "# wine produced\n",
    "df_item_sum = df.groupby('Item').sum().reset_index()\n",
    "df_item_sum[df_item_sum['Item'] == 'Wine']"
   ]
  },
  {
   "cell_type": "markdown",
   "metadata": {},
   "source": [
    "## Q4: Highest sum between areas in 2017"
   ]
  },
  {
   "cell_type": "code",
   "execution_count": 62,
   "metadata": {},
   "outputs": [],
   "source": [
    "# create a dataframe containing only the area column and Y2017 column\n",
    "df_2017 = df.filter(items = ['Area', \"Y2017\"])\n",
    "\n",
    "# group the dataframe rows using area and calculating sum\n",
    "df_2017_area = df_2017.groupby('Area').sum().reset_index()"
   ]
  },
  {
   "cell_type": "code",
   "execution_count": 79,
   "metadata": {},
   "outputs": [
    {
     "name": "stdout",
     "output_type": "stream",
     "text": [
      "Nigeria :  1483268.23\n",
      "Ethiopia :  448683.76\n",
      "South Africa :  517590.54\n",
      "Egypt :  866379.92\n",
      "Kenya :  264660.66\n"
     ]
    }
   ],
   "source": [
    "country = ['Nigeria', 'Ethiopia', 'South Africa', 'Egypt', 'Kenya']\n",
    "for i in country:\n",
    "    total = df_2017_area[df_2017_area['Area'] == i].values.tolist()[0][1]\n",
    "    print (i, ': ', total)"
   ]
  },
  {
   "cell_type": "markdown",
   "metadata": {},
   "source": [
    "## Q5: total number of unique countries in the dataset"
   ]
  },
  {
   "cell_type": "code",
   "execution_count": 83,
   "metadata": {},
   "outputs": [
    {
     "data": {
      "text/plain": [
       "49"
      ]
     },
     "execution_count": 83,
     "metadata": {},
     "output_type": "execute_result"
    }
   ],
   "source": [
    "len(df.Area.unique())"
   ]
  },
  {
   "cell_type": "code",
   "execution_count": 86,
   "metadata": {},
   "outputs": [
    {
     "data": {
      "text/html": [
       "<div>\n",
       "<style scoped>\n",
       "    .dataframe tbody tr th:only-of-type {\n",
       "        vertical-align: middle;\n",
       "    }\n",
       "\n",
       "    .dataframe tbody tr th {\n",
       "        vertical-align: top;\n",
       "    }\n",
       "\n",
       "    .dataframe thead th {\n",
       "        text-align: right;\n",
       "    }\n",
       "</style>\n",
       "<table border=\"1\" class=\"dataframe\">\n",
       "  <thead>\n",
       "    <tr style=\"text-align: right;\">\n",
       "      <th></th>\n",
       "      <th>Area Code</th>\n",
       "      <th>Area</th>\n",
       "      <th>Item Code</th>\n",
       "      <th>Item</th>\n",
       "      <th>Element Code</th>\n",
       "      <th>Element</th>\n",
       "      <th>Unit</th>\n",
       "      <th>Y2014</th>\n",
       "      <th>Y2015</th>\n",
       "      <th>Y2016</th>\n",
       "      <th>Y2017</th>\n",
       "      <th>Y2018</th>\n",
       "    </tr>\n",
       "  </thead>\n",
       "  <tbody>\n",
       "    <tr>\n",
       "      <th>count</th>\n",
       "      <td>60943.0</td>\n",
       "      <td>60943</td>\n",
       "      <td>60943.0</td>\n",
       "      <td>60943</td>\n",
       "      <td>60943.0</td>\n",
       "      <td>60943</td>\n",
       "      <td>60943</td>\n",
       "      <td>59354.000000</td>\n",
       "      <td>59395.000000</td>\n",
       "      <td>59408.000000</td>\n",
       "      <td>59437.000000</td>\n",
       "      <td>59507.000000</td>\n",
       "    </tr>\n",
       "    <tr>\n",
       "      <th>unique</th>\n",
       "      <td>49.0</td>\n",
       "      <td>49</td>\n",
       "      <td>122.0</td>\n",
       "      <td>119</td>\n",
       "      <td>18.0</td>\n",
       "      <td>18</td>\n",
       "      <td>5</td>\n",
       "      <td>NaN</td>\n",
       "      <td>NaN</td>\n",
       "      <td>NaN</td>\n",
       "      <td>NaN</td>\n",
       "      <td>NaN</td>\n",
       "    </tr>\n",
       "    <tr>\n",
       "      <th>top</th>\n",
       "      <td>114.0</td>\n",
       "      <td>Kenya</td>\n",
       "      <td>2905.0</td>\n",
       "      <td>Milk - Excluding Butter</td>\n",
       "      <td>5301.0</td>\n",
       "      <td>Domestic supply quantity</td>\n",
       "      <td>1000 tonnes</td>\n",
       "      <td>NaN</td>\n",
       "      <td>NaN</td>\n",
       "      <td>NaN</td>\n",
       "      <td>NaN</td>\n",
       "      <td>NaN</td>\n",
       "    </tr>\n",
       "    <tr>\n",
       "      <th>freq</th>\n",
       "      <td>1560.0</td>\n",
       "      <td>1560</td>\n",
       "      <td>714.0</td>\n",
       "      <td>1262</td>\n",
       "      <td>5295.0</td>\n",
       "      <td>5295</td>\n",
       "      <td>40933</td>\n",
       "      <td>NaN</td>\n",
       "      <td>NaN</td>\n",
       "      <td>NaN</td>\n",
       "      <td>NaN</td>\n",
       "      <td>NaN</td>\n",
       "    </tr>\n",
       "    <tr>\n",
       "      <th>mean</th>\n",
       "      <td>NaN</td>\n",
       "      <td>NaN</td>\n",
       "      <td>NaN</td>\n",
       "      <td>NaN</td>\n",
       "      <td>NaN</td>\n",
       "      <td>NaN</td>\n",
       "      <td>NaN</td>\n",
       "      <td>134.196282</td>\n",
       "      <td>135.235966</td>\n",
       "      <td>136.555222</td>\n",
       "      <td>140.917765</td>\n",
       "      <td>143.758381</td>\n",
       "    </tr>\n",
       "    <tr>\n",
       "      <th>std</th>\n",
       "      <td>NaN</td>\n",
       "      <td>NaN</td>\n",
       "      <td>NaN</td>\n",
       "      <td>NaN</td>\n",
       "      <td>NaN</td>\n",
       "      <td>NaN</td>\n",
       "      <td>NaN</td>\n",
       "      <td>1567.663696</td>\n",
       "      <td>1603.403984</td>\n",
       "      <td>1640.007194</td>\n",
       "      <td>1671.862359</td>\n",
       "      <td>1710.782658</td>\n",
       "    </tr>\n",
       "    <tr>\n",
       "      <th>min</th>\n",
       "      <td>NaN</td>\n",
       "      <td>NaN</td>\n",
       "      <td>NaN</td>\n",
       "      <td>NaN</td>\n",
       "      <td>NaN</td>\n",
       "      <td>NaN</td>\n",
       "      <td>NaN</td>\n",
       "      <td>-1796.000000</td>\n",
       "      <td>-3161.000000</td>\n",
       "      <td>-3225.000000</td>\n",
       "      <td>-1582.000000</td>\n",
       "      <td>-3396.000000</td>\n",
       "    </tr>\n",
       "    <tr>\n",
       "      <th>25%</th>\n",
       "      <td>NaN</td>\n",
       "      <td>NaN</td>\n",
       "      <td>NaN</td>\n",
       "      <td>NaN</td>\n",
       "      <td>NaN</td>\n",
       "      <td>NaN</td>\n",
       "      <td>NaN</td>\n",
       "      <td>0.000000</td>\n",
       "      <td>0.000000</td>\n",
       "      <td>0.000000</td>\n",
       "      <td>0.000000</td>\n",
       "      <td>0.000000</td>\n",
       "    </tr>\n",
       "    <tr>\n",
       "      <th>50%</th>\n",
       "      <td>NaN</td>\n",
       "      <td>NaN</td>\n",
       "      <td>NaN</td>\n",
       "      <td>NaN</td>\n",
       "      <td>NaN</td>\n",
       "      <td>NaN</td>\n",
       "      <td>NaN</td>\n",
       "      <td>0.090000</td>\n",
       "      <td>0.080000</td>\n",
       "      <td>0.080000</td>\n",
       "      <td>0.100000</td>\n",
       "      <td>0.070000</td>\n",
       "    </tr>\n",
       "    <tr>\n",
       "      <th>75%</th>\n",
       "      <td>NaN</td>\n",
       "      <td>NaN</td>\n",
       "      <td>NaN</td>\n",
       "      <td>NaN</td>\n",
       "      <td>NaN</td>\n",
       "      <td>NaN</td>\n",
       "      <td>NaN</td>\n",
       "      <td>8.340000</td>\n",
       "      <td>8.460000</td>\n",
       "      <td>8.430000</td>\n",
       "      <td>9.000000</td>\n",
       "      <td>9.000000</td>\n",
       "    </tr>\n",
       "    <tr>\n",
       "      <th>max</th>\n",
       "      <td>NaN</td>\n",
       "      <td>NaN</td>\n",
       "      <td>NaN</td>\n",
       "      <td>NaN</td>\n",
       "      <td>NaN</td>\n",
       "      <td>NaN</td>\n",
       "      <td>NaN</td>\n",
       "      <td>176405.000000</td>\n",
       "      <td>181137.000000</td>\n",
       "      <td>185960.000000</td>\n",
       "      <td>190873.000000</td>\n",
       "      <td>195875.000000</td>\n",
       "    </tr>\n",
       "  </tbody>\n",
       "</table>\n",
       "</div>"
      ],
      "text/plain": [
       "        Area Code   Area  Item Code                     Item  Element Code  \\\n",
       "count     60943.0  60943    60943.0                    60943       60943.0   \n",
       "unique       49.0     49      122.0                      119          18.0   \n",
       "top         114.0  Kenya     2905.0  Milk - Excluding Butter        5301.0   \n",
       "freq       1560.0   1560      714.0                     1262        5295.0   \n",
       "mean          NaN    NaN        NaN                      NaN           NaN   \n",
       "std           NaN    NaN        NaN                      NaN           NaN   \n",
       "min           NaN    NaN        NaN                      NaN           NaN   \n",
       "25%           NaN    NaN        NaN                      NaN           NaN   \n",
       "50%           NaN    NaN        NaN                      NaN           NaN   \n",
       "75%           NaN    NaN        NaN                      NaN           NaN   \n",
       "max           NaN    NaN        NaN                      NaN           NaN   \n",
       "\n",
       "                         Element         Unit          Y2014          Y2015  \\\n",
       "count                      60943        60943   59354.000000   59395.000000   \n",
       "unique                        18            5            NaN            NaN   \n",
       "top     Domestic supply quantity  1000 tonnes            NaN            NaN   \n",
       "freq                        5295        40933            NaN            NaN   \n",
       "mean                         NaN          NaN     134.196282     135.235966   \n",
       "std                          NaN          NaN    1567.663696    1603.403984   \n",
       "min                          NaN          NaN   -1796.000000   -3161.000000   \n",
       "25%                          NaN          NaN       0.000000       0.000000   \n",
       "50%                          NaN          NaN       0.090000       0.080000   \n",
       "75%                          NaN          NaN       8.340000       8.460000   \n",
       "max                          NaN          NaN  176405.000000  181137.000000   \n",
       "\n",
       "                Y2016          Y2017          Y2018  \n",
       "count    59408.000000   59437.000000   59507.000000  \n",
       "unique            NaN            NaN            NaN  \n",
       "top               NaN            NaN            NaN  \n",
       "freq              NaN            NaN            NaN  \n",
       "mean       136.555222     140.917765     143.758381  \n",
       "std       1640.007194    1671.862359    1710.782658  \n",
       "min      -3225.000000   -1582.000000   -3396.000000  \n",
       "25%          0.000000       0.000000       0.000000  \n",
       "50%          0.080000       0.100000       0.070000  \n",
       "75%          8.430000       9.000000       9.000000  \n",
       "max     185960.000000  190873.000000  195875.000000  "
      ]
     },
     "execution_count": 86,
     "metadata": {},
     "output_type": "execute_result"
    }
   ],
   "source": [
    "df.describe(include = 'all')"
   ]
  },
  {
   "cell_type": "markdown",
   "metadata": {},
   "source": [
    "## Q8: total number of the sum of Processing in 2017"
   ]
  },
  {
   "cell_type": "code",
   "execution_count": 88,
   "metadata": {},
   "outputs": [
    {
     "data": {
      "text/html": [
       "<div>\n",
       "<style scoped>\n",
       "    .dataframe tbody tr th:only-of-type {\n",
       "        vertical-align: middle;\n",
       "    }\n",
       "\n",
       "    .dataframe tbody tr th {\n",
       "        vertical-align: top;\n",
       "    }\n",
       "\n",
       "    .dataframe thead th {\n",
       "        text-align: right;\n",
       "    }\n",
       "</style>\n",
       "<table border=\"1\" class=\"dataframe\">\n",
       "  <thead>\n",
       "    <tr style=\"text-align: right;\">\n",
       "      <th></th>\n",
       "      <th>Element</th>\n",
       "      <th>Y2017</th>\n",
       "    </tr>\n",
       "  </thead>\n",
       "  <tbody>\n",
       "    <tr>\n",
       "      <th>10</th>\n",
       "      <td>Processing</td>\n",
       "      <td>292836.0</td>\n",
       "    </tr>\n",
       "  </tbody>\n",
       "</table>\n",
       "</div>"
      ],
      "text/plain": [
       "       Element     Y2017\n",
       "10  Processing  292836.0"
      ]
     },
     "execution_count": 88,
     "metadata": {},
     "output_type": "execute_result"
    }
   ],
   "source": [
    "df_2017 = df.filter(items = ['Element', \"Y2017\"])\n",
    "df_2017 = df_2017.groupby('Element').sum().reset_index()\n",
    "df_2017[df_2017['Element'] == 'Processing']"
   ]
  },
  {
   "cell_type": "markdown",
   "metadata": {},
   "source": [
    "## Q11: total number and percentage of missing data in 2014 to 3 decimal places"
   ]
  },
  {
   "cell_type": "code",
   "execution_count": 96,
   "metadata": {},
   "outputs": [
    {
     "name": "stdout",
     "output_type": "stream",
     "text": [
      "Total missing numbers:  1589\n",
      "Percentage:  2.607 %\n"
     ]
    }
   ],
   "source": [
    "# total number of missing data in 2014\n",
    "missing = df.Y2014.isnull().sum()\n",
    "print(\"Total missing numbers: \", missing)\n",
    "# total number of rows\n",
    "rows = df.shape[0]\n",
    "#calculating percentage\n",
    "perc = round((missing/rows*100),3)\n",
    "print(\"Percentage: \", perc,\"%\")"
   ]
  },
  {
   "cell_type": "markdown",
   "metadata": {},
   "source": [
    "## Q14: year that has the highest sum of Stock Variation"
   ]
  },
  {
   "cell_type": "code",
   "execution_count": 98,
   "metadata": {},
   "outputs": [
    {
     "data": {
      "text/html": [
       "<div>\n",
       "<style scoped>\n",
       "    .dataframe tbody tr th:only-of-type {\n",
       "        vertical-align: middle;\n",
       "    }\n",
       "\n",
       "    .dataframe tbody tr th {\n",
       "        vertical-align: top;\n",
       "    }\n",
       "\n",
       "    .dataframe thead th {\n",
       "        text-align: right;\n",
       "    }\n",
       "</style>\n",
       "<table border=\"1\" class=\"dataframe\">\n",
       "  <thead>\n",
       "    <tr style=\"text-align: right;\">\n",
       "      <th></th>\n",
       "      <th>Element</th>\n",
       "      <th>Y2014</th>\n",
       "      <th>Y2015</th>\n",
       "      <th>Y2016</th>\n",
       "      <th>Y2017</th>\n",
       "      <th>Y2018</th>\n",
       "    </tr>\n",
       "  </thead>\n",
       "  <tbody>\n",
       "    <tr>\n",
       "      <th>15</th>\n",
       "      <td>Stock Variation</td>\n",
       "      <td>58749.83</td>\n",
       "      <td>34910.99</td>\n",
       "      <td>33140.12</td>\n",
       "      <td>54316.91</td>\n",
       "      <td>20577.91</td>\n",
       "    </tr>\n",
       "  </tbody>\n",
       "</table>\n",
       "</div>"
      ],
      "text/plain": [
       "            Element     Y2014     Y2015     Y2016     Y2017     Y2018\n",
       "15  Stock Variation  58749.83  34910.99  33140.12  54316.91  20577.91"
      ]
     },
     "execution_count": 98,
     "metadata": {},
     "output_type": "execute_result"
    }
   ],
   "source": [
    "# wine produced\n",
    "df_item_sum = df.groupby('Element').sum().reset_index()\n",
    "df_item_sum[df_item_sum['Element'] == 'Stock Variation']"
   ]
  },
  {
   "cell_type": "markdown",
   "metadata": {},
   "source": [
    "## Q15: year that had the least correlation with ‘Element Code’"
   ]
  },
  {
   "cell_type": "code",
   "execution_count": 101,
   "metadata": {},
   "outputs": [
    {
     "data": {
      "text/html": [
       "<div>\n",
       "<style scoped>\n",
       "    .dataframe tbody tr th:only-of-type {\n",
       "        vertical-align: middle;\n",
       "    }\n",
       "\n",
       "    .dataframe tbody tr th {\n",
       "        vertical-align: top;\n",
       "    }\n",
       "\n",
       "    .dataframe thead th {\n",
       "        text-align: right;\n",
       "    }\n",
       "</style>\n",
       "<table border=\"1\" class=\"dataframe\">\n",
       "  <thead>\n",
       "    <tr style=\"text-align: right;\">\n",
       "      <th></th>\n",
       "      <th>Area Code</th>\n",
       "      <th>Item Code</th>\n",
       "      <th>Element Code</th>\n",
       "      <th>Y2014</th>\n",
       "      <th>Y2015</th>\n",
       "      <th>Y2016</th>\n",
       "      <th>Y2017</th>\n",
       "      <th>Y2018</th>\n",
       "    </tr>\n",
       "  </thead>\n",
       "  <tbody>\n",
       "    <tr>\n",
       "      <th>Area Code</th>\n",
       "      <td>1.000000</td>\n",
       "      <td>-0.005159</td>\n",
       "      <td>-0.000209</td>\n",
       "      <td>0.006164</td>\n",
       "      <td>0.005472</td>\n",
       "      <td>0.005247</td>\n",
       "      <td>0.005006</td>\n",
       "      <td>0.005665</td>\n",
       "    </tr>\n",
       "    <tr>\n",
       "      <th>Item Code</th>\n",
       "      <td>-0.005159</td>\n",
       "      <td>1.000000</td>\n",
       "      <td>-0.024683</td>\n",
       "      <td>0.021722</td>\n",
       "      <td>0.020857</td>\n",
       "      <td>0.020109</td>\n",
       "      <td>0.021494</td>\n",
       "      <td>0.021314</td>\n",
       "    </tr>\n",
       "    <tr>\n",
       "      <th>Element Code</th>\n",
       "      <td>-0.000209</td>\n",
       "      <td>-0.024683</td>\n",
       "      <td>1.000000</td>\n",
       "      <td>0.024457</td>\n",
       "      <td>0.023889</td>\n",
       "      <td>0.023444</td>\n",
       "      <td>0.024254</td>\n",
       "      <td>0.024279</td>\n",
       "    </tr>\n",
       "    <tr>\n",
       "      <th>Y2014</th>\n",
       "      <td>0.006164</td>\n",
       "      <td>0.021722</td>\n",
       "      <td>0.024457</td>\n",
       "      <td>1.000000</td>\n",
       "      <td>0.994647</td>\n",
       "      <td>0.996081</td>\n",
       "      <td>0.995230</td>\n",
       "      <td>0.994872</td>\n",
       "    </tr>\n",
       "    <tr>\n",
       "      <th>Y2015</th>\n",
       "      <td>0.005472</td>\n",
       "      <td>0.020857</td>\n",
       "      <td>0.023889</td>\n",
       "      <td>0.994647</td>\n",
       "      <td>1.000000</td>\n",
       "      <td>0.995739</td>\n",
       "      <td>0.988048</td>\n",
       "      <td>0.988208</td>\n",
       "    </tr>\n",
       "    <tr>\n",
       "      <th>Y2016</th>\n",
       "      <td>0.005247</td>\n",
       "      <td>0.020109</td>\n",
       "      <td>0.023444</td>\n",
       "      <td>0.996081</td>\n",
       "      <td>0.995739</td>\n",
       "      <td>1.000000</td>\n",
       "      <td>0.992785</td>\n",
       "      <td>0.992757</td>\n",
       "    </tr>\n",
       "    <tr>\n",
       "      <th>Y2017</th>\n",
       "      <td>0.005006</td>\n",
       "      <td>0.021494</td>\n",
       "      <td>0.024254</td>\n",
       "      <td>0.995230</td>\n",
       "      <td>0.988048</td>\n",
       "      <td>0.992785</td>\n",
       "      <td>1.000000</td>\n",
       "      <td>0.998103</td>\n",
       "    </tr>\n",
       "    <tr>\n",
       "      <th>Y2018</th>\n",
       "      <td>0.005665</td>\n",
       "      <td>0.021314</td>\n",
       "      <td>0.024279</td>\n",
       "      <td>0.994872</td>\n",
       "      <td>0.988208</td>\n",
       "      <td>0.992757</td>\n",
       "      <td>0.998103</td>\n",
       "      <td>1.000000</td>\n",
       "    </tr>\n",
       "  </tbody>\n",
       "</table>\n",
       "</div>"
      ],
      "text/plain": [
       "              Area Code  Item Code  Element Code     Y2014     Y2015  \\\n",
       "Area Code      1.000000  -0.005159     -0.000209  0.006164  0.005472   \n",
       "Item Code     -0.005159   1.000000     -0.024683  0.021722  0.020857   \n",
       "Element Code  -0.000209  -0.024683      1.000000  0.024457  0.023889   \n",
       "Y2014          0.006164   0.021722      0.024457  1.000000  0.994647   \n",
       "Y2015          0.005472   0.020857      0.023889  0.994647  1.000000   \n",
       "Y2016          0.005247   0.020109      0.023444  0.996081  0.995739   \n",
       "Y2017          0.005006   0.021494      0.024254  0.995230  0.988048   \n",
       "Y2018          0.005665   0.021314      0.024279  0.994872  0.988208   \n",
       "\n",
       "                 Y2016     Y2017     Y2018  \n",
       "Area Code     0.005247  0.005006  0.005665  \n",
       "Item Code     0.020109  0.021494  0.021314  \n",
       "Element Code  0.023444  0.024254  0.024279  \n",
       "Y2014         0.996081  0.995230  0.994872  \n",
       "Y2015         0.995739  0.988048  0.988208  \n",
       "Y2016         1.000000  0.992785  0.992757  \n",
       "Y2017         0.992785  1.000000  0.998103  \n",
       "Y2018         0.992757  0.998103  1.000000  "
      ]
     },
     "execution_count": 101,
     "metadata": {},
     "output_type": "execute_result"
    }
   ],
   "source": [
    "df.corr()"
   ]
  },
  {
   "cell_type": "markdown",
   "metadata": {},
   "source": [
    "## Q16: mean and standard deviation across the whole dataset for the year 2017 to 2 decimal places"
   ]
  },
  {
   "cell_type": "code",
   "execution_count": 104,
   "metadata": {},
   "outputs": [
    {
     "name": "stdout",
     "output_type": "stream",
     "text": [
      "mean:  140.92\n",
      "standard deviation:  1671.86\n"
     ]
    }
   ],
   "source": [
    "print(\"mean: \", round(df.Y2017.mean(),2))\n",
    "print(\"standard deviation: \", round(df.Y2017.std(),2))"
   ]
  },
  {
   "cell_type": "markdown",
   "metadata": {},
   "source": [
    "## Q20: Areas had the 7th lowest sum in 2017"
   ]
  },
  {
   "cell_type": "code",
   "execution_count": 130,
   "metadata": {},
   "outputs": [
    {
     "data": {
      "text/html": [
       "<div>\n",
       "<style scoped>\n",
       "    .dataframe tbody tr th:only-of-type {\n",
       "        vertical-align: middle;\n",
       "    }\n",
       "\n",
       "    .dataframe tbody tr th {\n",
       "        vertical-align: top;\n",
       "    }\n",
       "\n",
       "    .dataframe thead th {\n",
       "        text-align: right;\n",
       "    }\n",
       "</style>\n",
       "<table border=\"1\" class=\"dataframe\">\n",
       "  <thead>\n",
       "    <tr style=\"text-align: right;\">\n",
       "      <th></th>\n",
       "      <th>Area</th>\n",
       "      <th>Y2017</th>\n",
       "    </tr>\n",
       "  </thead>\n",
       "  <tbody>\n",
       "    <tr>\n",
       "      <th>42</th>\n",
       "      <td>Sudan (former)</td>\n",
       "      <td>0.00</td>\n",
       "    </tr>\n",
       "    <tr>\n",
       "      <th>16</th>\n",
       "      <td>Ethiopia PDR</td>\n",
       "      <td>0.00</td>\n",
       "    </tr>\n",
       "    <tr>\n",
       "      <th>9</th>\n",
       "      <td>Comoros</td>\n",
       "      <td>59.84</td>\n",
       "    </tr>\n",
       "    <tr>\n",
       "      <th>38</th>\n",
       "      <td>Seychelles</td>\n",
       "      <td>442.34</td>\n",
       "    </tr>\n",
       "    <tr>\n",
       "      <th>36</th>\n",
       "      <td>Sao Tome and Principe</td>\n",
       "      <td>12662.63</td>\n",
       "    </tr>\n",
       "    <tr>\n",
       "      <th>5</th>\n",
       "      <td>Cabo Verde</td>\n",
       "      <td>14650.74</td>\n",
       "    </tr>\n",
       "    <tr>\n",
       "      <th>21</th>\n",
       "      <td>Guinea-Bissau</td>\n",
       "      <td>19102.77</td>\n",
       "    </tr>\n",
       "    <tr>\n",
       "      <th>23</th>\n",
       "      <td>Lesotho</td>\n",
       "      <td>21267.96</td>\n",
       "    </tr>\n",
       "    <tr>\n",
       "      <th>3</th>\n",
       "      <td>Botswana</td>\n",
       "      <td>22101.30</td>\n",
       "    </tr>\n",
       "    <tr>\n",
       "      <th>12</th>\n",
       "      <td>Djibouti</td>\n",
       "      <td>22729.91</td>\n",
       "    </tr>\n",
       "    <tr>\n",
       "      <th>18</th>\n",
       "      <td>Gambia</td>\n",
       "      <td>23154.18</td>\n",
       "    </tr>\n",
       "    <tr>\n",
       "      <th>17</th>\n",
       "      <td>Gabon</td>\n",
       "      <td>27979.64</td>\n",
       "    </tr>\n",
       "    <tr>\n",
       "      <th>24</th>\n",
       "      <td>Liberia</td>\n",
       "      <td>29342.20</td>\n",
       "    </tr>\n",
       "    <tr>\n",
       "      <th>32</th>\n",
       "      <td>Namibia</td>\n",
       "      <td>29874.89</td>\n",
       "    </tr>\n",
       "    <tr>\n",
       "      <th>7</th>\n",
       "      <td>Central African Republic</td>\n",
       "      <td>29937.00</td>\n",
       "    </tr>\n",
       "    <tr>\n",
       "      <th>10</th>\n",
       "      <td>Congo</td>\n",
       "      <td>41181.68</td>\n",
       "    </tr>\n",
       "    <tr>\n",
       "      <th>43</th>\n",
       "      <td>Togo</td>\n",
       "      <td>49841.88</td>\n",
       "    </tr>\n",
       "    <tr>\n",
       "      <th>29</th>\n",
       "      <td>Mauritius</td>\n",
       "      <td>51114.83</td>\n",
       "    </tr>\n",
       "    <tr>\n",
       "      <th>14</th>\n",
       "      <td>Eswatini</td>\n",
       "      <td>54343.33</td>\n",
       "    </tr>\n",
       "    <tr>\n",
       "      <th>39</th>\n",
       "      <td>Sierra Leone</td>\n",
       "      <td>55311.33</td>\n",
       "    </tr>\n",
       "    <tr>\n",
       "      <th>8</th>\n",
       "      <td>Chad</td>\n",
       "      <td>71594.68</td>\n",
       "    </tr>\n",
       "    <tr>\n",
       "      <th>35</th>\n",
       "      <td>Rwanda</td>\n",
       "      <td>73663.69</td>\n",
       "    </tr>\n",
       "    <tr>\n",
       "      <th>48</th>\n",
       "      <td>Zimbabwe</td>\n",
       "      <td>75919.34</td>\n",
       "    </tr>\n",
       "    <tr>\n",
       "      <th>37</th>\n",
       "      <td>Senegal</td>\n",
       "      <td>95681.15</td>\n",
       "    </tr>\n",
       "    <tr>\n",
       "      <th>20</th>\n",
       "      <td>Guinea</td>\n",
       "      <td>98138.87</td>\n",
       "    </tr>\n",
       "    <tr>\n",
       "      <th>4</th>\n",
       "      <td>Burkina Faso</td>\n",
       "      <td>101855.07</td>\n",
       "    </tr>\n",
       "    <tr>\n",
       "      <th>47</th>\n",
       "      <td>Zambia</td>\n",
       "      <td>103223.77</td>\n",
       "    </tr>\n",
       "    <tr>\n",
       "      <th>44</th>\n",
       "      <td>Tunisia</td>\n",
       "      <td>124167.20</td>\n",
       "    </tr>\n",
       "    <tr>\n",
       "      <th>2</th>\n",
       "      <td>Benin</td>\n",
       "      <td>124771.22</td>\n",
       "    </tr>\n",
       "    <tr>\n",
       "      <th>33</th>\n",
       "      <td>Niger</td>\n",
       "      <td>126707.58</td>\n",
       "    </tr>\n",
       "    <tr>\n",
       "      <th>25</th>\n",
       "      <td>Madagascar</td>\n",
       "      <td>131197.73</td>\n",
       "    </tr>\n",
       "    <tr>\n",
       "      <th>27</th>\n",
       "      <td>Mali</td>\n",
       "      <td>149928.33</td>\n",
       "    </tr>\n",
       "    <tr>\n",
       "      <th>28</th>\n",
       "      <td>Mauritania</td>\n",
       "      <td>156665.46</td>\n",
       "    </tr>\n",
       "    <tr>\n",
       "      <th>31</th>\n",
       "      <td>Mozambique</td>\n",
       "      <td>161407.98</td>\n",
       "    </tr>\n",
       "    <tr>\n",
       "      <th>26</th>\n",
       "      <td>Malawi</td>\n",
       "      <td>181098.71</td>\n",
       "    </tr>\n",
       "    <tr>\n",
       "      <th>45</th>\n",
       "      <td>Uganda</td>\n",
       "      <td>213950.38</td>\n",
       "    </tr>\n",
       "    <tr>\n",
       "      <th>11</th>\n",
       "      <td>Côte d'Ivoire</td>\n",
       "      <td>224599.01</td>\n",
       "    </tr>\n",
       "    <tr>\n",
       "      <th>1</th>\n",
       "      <td>Angola</td>\n",
       "      <td>229159.57</td>\n",
       "    </tr>\n",
       "    <tr>\n",
       "      <th>6</th>\n",
       "      <td>Cameroon</td>\n",
       "      <td>232030.43</td>\n",
       "    </tr>\n",
       "    <tr>\n",
       "      <th>41</th>\n",
       "      <td>Sudan</td>\n",
       "      <td>239931.92</td>\n",
       "    </tr>\n",
       "    <tr>\n",
       "      <th>22</th>\n",
       "      <td>Kenya</td>\n",
       "      <td>264660.66</td>\n",
       "    </tr>\n",
       "    <tr>\n",
       "      <th>46</th>\n",
       "      <td>United Republic of Tanzania</td>\n",
       "      <td>322616.85</td>\n",
       "    </tr>\n",
       "    <tr>\n",
       "      <th>0</th>\n",
       "      <td>Algeria</td>\n",
       "      <td>325644.27</td>\n",
       "    </tr>\n",
       "    <tr>\n",
       "      <th>19</th>\n",
       "      <td>Ghana</td>\n",
       "      <td>337599.06</td>\n",
       "    </tr>\n",
       "    <tr>\n",
       "      <th>30</th>\n",
       "      <td>Morocco</td>\n",
       "      <td>388495.36</td>\n",
       "    </tr>\n",
       "    <tr>\n",
       "      <th>15</th>\n",
       "      <td>Ethiopia</td>\n",
       "      <td>448683.76</td>\n",
       "    </tr>\n",
       "    <tr>\n",
       "      <th>40</th>\n",
       "      <td>South Africa</td>\n",
       "      <td>517590.54</td>\n",
       "    </tr>\n",
       "    <tr>\n",
       "      <th>13</th>\n",
       "      <td>Egypt</td>\n",
       "      <td>866379.92</td>\n",
       "    </tr>\n",
       "    <tr>\n",
       "      <th>34</th>\n",
       "      <td>Nigeria</td>\n",
       "      <td>1483268.23</td>\n",
       "    </tr>\n",
       "  </tbody>\n",
       "</table>\n",
       "</div>"
      ],
      "text/plain": [
       "                           Area       Y2017\n",
       "42               Sudan (former)        0.00\n",
       "16                 Ethiopia PDR        0.00\n",
       "9                       Comoros       59.84\n",
       "38                   Seychelles      442.34\n",
       "36        Sao Tome and Principe    12662.63\n",
       "5                    Cabo Verde    14650.74\n",
       "21                Guinea-Bissau    19102.77\n",
       "23                      Lesotho    21267.96\n",
       "3                      Botswana    22101.30\n",
       "12                     Djibouti    22729.91\n",
       "18                       Gambia    23154.18\n",
       "17                        Gabon    27979.64\n",
       "24                      Liberia    29342.20\n",
       "32                      Namibia    29874.89\n",
       "7      Central African Republic    29937.00\n",
       "10                        Congo    41181.68\n",
       "43                         Togo    49841.88\n",
       "29                    Mauritius    51114.83\n",
       "14                     Eswatini    54343.33\n",
       "39                 Sierra Leone    55311.33\n",
       "8                          Chad    71594.68\n",
       "35                       Rwanda    73663.69\n",
       "48                     Zimbabwe    75919.34\n",
       "37                      Senegal    95681.15\n",
       "20                       Guinea    98138.87\n",
       "4                  Burkina Faso   101855.07\n",
       "47                       Zambia   103223.77\n",
       "44                      Tunisia   124167.20\n",
       "2                         Benin   124771.22\n",
       "33                        Niger   126707.58\n",
       "25                   Madagascar   131197.73\n",
       "27                         Mali   149928.33\n",
       "28                   Mauritania   156665.46\n",
       "31                   Mozambique   161407.98\n",
       "26                       Malawi   181098.71\n",
       "45                       Uganda   213950.38\n",
       "11                Côte d'Ivoire   224599.01\n",
       "1                        Angola   229159.57\n",
       "6                      Cameroon   232030.43\n",
       "41                        Sudan   239931.92\n",
       "22                        Kenya   264660.66\n",
       "46  United Republic of Tanzania   322616.85\n",
       "0                       Algeria   325644.27\n",
       "19                        Ghana   337599.06\n",
       "30                      Morocco   388495.36\n",
       "15                     Ethiopia   448683.76\n",
       "40                 South Africa   517590.54\n",
       "13                        Egypt   866379.92\n",
       "34                      Nigeria  1483268.23"
      ]
     },
     "execution_count": 130,
     "metadata": {},
     "output_type": "execute_result"
    }
   ],
   "source": [
    "df_2017 = df.filter(items = ['Area', \"Y2017\"])\n",
    "df_2017 = df_2017.groupby('Area').sum().reset_index()\n",
    "df_2017.sort_values(by = 'Y2017')"
   ]
  },
  {
   "cell_type": "code",
   "execution_count": null,
   "metadata": {},
   "outputs": [],
   "source": []
  }
 ],
 "metadata": {
  "kernelspec": {
   "display_name": "Python 3.9.7",
   "language": "python",
   "name": "python3"
  },
  "language_info": {
   "codemirror_mode": {
    "name": "ipython",
    "version": 3
   },
   "file_extension": ".py",
   "mimetype": "text/x-python",
   "name": "python",
   "nbconvert_exporter": "python",
   "pygments_lexer": "ipython3",
   "version": "3.9.7"
  },
  "orig_nbformat": 4,
  "vscode": {
   "interpreter": {
    "hash": "5e4de0b82a128dcb87047c75b46f65a6bdff7dba0779a1a449f356a2326864fc"
   }
  }
 },
 "nbformat": 4,
 "nbformat_minor": 2
}
